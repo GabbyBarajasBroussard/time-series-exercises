{
 "cells": [
  {
   "cell_type": "code",
   "execution_count": 1,
   "metadata": {},
   "outputs": [],
   "source": [
    "import pandas as pd\n",
    "import requests"
   ]
  },
  {
   "cell_type": "code",
   "execution_count": 4,
   "metadata": {},
   "outputs": [],
   "source": [
    "def get_items_data():\n",
    "    '''This function will connect to thehttps://python.zach.lol/api/v1/items. It will then cache a local copy to the computer to use for later\n",
    "        in the form of a CSV file.'''\n",
    "    filename = \"items.csv\"\n",
    "    if os.path.isfile(filename):\n",
    "        return pd.read_csv(filename)\n",
    "    else:\n",
    "    #empty list for holding items\n",
    "        items_list = []\n",
    "        response = requests.get('https://python.zach.lol/api/v1/items')\n",
    "        data = response.json()\n",
    "        n = data['payload']['max_page']\n",
    "        #from items in json, turn into a list\n",
    "        for i in range(1,n+1):\n",
    "            url = 'https://python.zach.lol/api/v1/items?page='+str(i)\n",
    "            response = requests.get(url)\n",
    "            data = response.json()\n",
    "            page_items = data['payload']['items']\n",
    "            items_list += page_items\n",
    "        #turn items from list into a dataframe\n",
    "        items = pd.DataFrame(items_list)\n",
    "        return items"
   ]
  },
  {
   "cell_type": "code",
   "execution_count": 7,
   "metadata": {},
   "outputs": [],
   "source": [
    "def get_stores_data():\n",
    "    '''This function will connect to thehttps://python.zach.lol/api/v1/stores. It will then cache a local copy to the computer to use for later\n",
    "        in the form of a CSV file.'''\n",
    "    filename = \"stores.csv\"\n",
    "    if os.path.isfile(filename):\n",
    "        return pd.read_csv(filename)\n",
    "    else:\n",
    "    #empty list for holding items\n",
    "        items_list = []\n",
    "        response = requests.get('https://python.zach.lol/api/v1/stores')\n",
    "        data = response.json()\n",
    "        n = data['payload']['max_page']\n",
    "        #from items in json, turn into a list\n",
    "        for i in range(1,n+1):\n",
    "            url = 'https://python.zach.lol/api/v1/stores?page='+str(i)\n",
    "            response = requests.get(url)\n",
    "            data = response.json()\n",
    "            page_stores = data['payload']['stores']\n",
    "            stores_list += page_stores\n",
    "        #turn items from list into a dataframe\n",
    "        stores = pd.DataFrame(stores_list)\n",
    "        return stores"
   ]
  },
  {
   "cell_type": "code",
   "execution_count": 8,
   "metadata": {},
   "outputs": [],
   "source": [
    "def get_sales_data():\n",
    "    '''This function will connect to thehttps://python.zach.lol/api/v1/sales. It will then cache a local copy to the computer to use for later\n",
    "        in the form of a CSV file.'''\n",
    "    filename = \"sales.csv\"\n",
    "    if os.path.isfile(filename):\n",
    "        return pd.read_csv(filename)\n",
    "    else:\n",
    "    #empty list for holding items\n",
    "        items_list = []\n",
    "        response = requests.get('https://python.zach.lol/api/v1/sales')\n",
    "        data = response.json()\n",
    "        n = data['payload']['max_page']\n",
    "        #from items in json, turn into a list\n",
    "        for i in range(1,n+1):\n",
    "            url = 'https://python.zach.lol/api/v1/ale?page='+str(i)\n",
    "            response = requests.get(url)\n",
    "            data = response.json()\n",
    "            page_sales = data['payload']['salees']\n",
    "            sales_list += page_sales\n",
    "        #turn items from list into a dataframe\n",
    "        sales = pd.DataFrame(sales_list)\n",
    "        return sales"
   ]
  },
  {
   "cell_type": "code",
   "execution_count": 11,
   "metadata": {},
   "outputs": [],
   "source": [
    "def make_one_df():\n",
    "    items = pd.read_csv('items.csv')\n",
    "    stores = pd.read_csv('stores.csv')\n",
    "    sales= pd.read_csv('sales.csv')\n",
    "    # Merge sales with stores\n",
    "    complete_df = sales.merge(stores, left_on='store', right_on='store_id')\n",
    "    # Merge sales and stores on items\n",
    "    complete_df = complete_df.merge(items, left_on='item', right_on='item_id')\n",
    "    # Make complete dataframe to a csv\n",
    "    complete_df.to_csv('complete_df.csv')\n",
    "    return complete_df"
   ]
  },
  {
   "cell_type": "code",
   "execution_count": 9,
   "metadata": {},
   "outputs": [],
   "source": [
    "def make_opsd_csv():\n",
    "    df = pd.read_csv('https://raw.githubusercontent.com/jenfly/opsd/master/opsd_germany_daily.csv')\n",
    "    df = pd.DataFrame(df)\n",
    "    return df"
   ]
  }
 ],
 "metadata": {
  "kernelspec": {
   "display_name": "Python 3",
   "language": "python",
   "name": "python3"
  },
  "language_info": {
   "codemirror_mode": {
    "name": "ipython",
    "version": 3
   },
   "file_extension": ".py",
   "mimetype": "text/x-python",
   "name": "python",
   "nbconvert_exporter": "python",
   "pygments_lexer": "ipython3",
   "version": "3.7.6"
  }
 },
 "nbformat": 4,
 "nbformat_minor": 4
}
